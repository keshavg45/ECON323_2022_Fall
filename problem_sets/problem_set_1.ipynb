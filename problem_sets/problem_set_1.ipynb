{
 "cells": [
  {
   "cell_type": "markdown",
   "id": "10dfc96f",
   "metadata": {},
   "source": [
    "# Problem Set 1\n"
   ]
  },
  {
   "cell_type": "markdown",
   "id": "d17a20e0",
   "metadata": {
    "tags": []
   },
   "source": [
    "<!-- BEGIN QUESTION -->\n",
    "\n",
    "## Question 1\n",
    "\n",
    "Below this cell, add\n",
    "\n",
    "1. A Markdown cell with\n",
    "   -  two levels of headings;\n",
    "   -  a numbered list (We ask for a list in Markdown, not a Python list object);\n",
    "   -  an unnumbered list (again not a Python list object);\n",
    "   -  text with a `%` sign (hint: [escape characters](https://www.markdownguide.org/basic-syntax/#characters-you-can-escape))\n",
    "   -  backticked code (see [https://github.com/adam-p/markdown-here/wiki/Markdown-Cheatsheet](https://github.com/adam-p/markdown-here/wiki/Markdown-Cheatsheet))\n",
    "1. A Markdown cell with\n",
    "   - the [quadratic formula](https://en.wikipedia.org/wiki/Quadratic_formula) embedded in the cell using [LaTeX](https://jupyternotebook.readthedocs.io/en/stable/examples/Notebook/Typesetting%20Equations.html)"
   ]
  },
  {
   "cell_type": "markdown",
   "id": "a5bdf6f4-2f7d-4a05-8371-9f5ab93a5324",
   "metadata": {
    "tags": []
   },
   "source": [
    "<!-- BEGIN ANSWER -->\n",
    "\n",
    "## Answer 1\n",
    "\n",
    "1.\n",
    " ### Level H1\n",
    " #### Level H2 \n",
    " 1. Numbered item one\n",
    " 2. Numbered item two\n",
    " 3. Numbered item three\n",
    "\n",
    " - Non-numbered item one\n",
    " - Non-numbered item two\n",
    " - Non-numbered item three\n",
    " - I want a 100`%` in this course\n",
    " - `System.out.println(\"Hello Professor\")`\n",
    "\n",
    "2.\n",
    "\n",
    " $x = \\frac{-b \\pm \\sqrt{b^2 - 4ac}}{2a}$\n",
    " "
   ]
  },
  {
   "cell_type": "markdown",
   "id": "7ba1c023",
   "metadata": {},
   "source": [
    "<!-- END QUESTION -->\n",
    "\n",
    "## Question 2\n",
    "\n",
    "Complete the following code, which sets up variables `a, b,` and `c`, to find the roots using the quadratic formula.\n",
    "\n",
    "$$\n",
    "x=\\frac{-b\\pm\\sqrt{b^2-4ac}}{2a}\n",
    "$$\n",
    "\n",
    "Note: because there are two roots, you will need to calculate two\n",
    "values. Store them as `x1` and `x2`."
   ]
  },
  {
   "cell_type": "code",
   "execution_count": 6,
   "id": "f0d35953",
   "metadata": {
    "tags": []
   },
   "outputs": [
    {
     "name": "stdout",
     "output_type": "stream",
     "text": [
      "Solution: (-3+0j) and (-2+0j)\n"
     ]
    }
   ],
   "source": [
    "import cmath\n",
    "\n",
    "a = 1\n",
    "b = 5\n",
    "c = 6\n",
    "\n",
    "# calculate the discriminant\n",
    "d = (b**2) - (4*a*c)\n",
    "\n",
    "# find two solutions\n",
    "x1 = (-b-cmath.sqrt(d))/(2*a)\n",
    "x2 = (-b+cmath.sqrt(d))/(2*a)\n",
    "\n",
    "print('Solution: {0} and {1}'.format(x1,x2))"
   ]
  },
  {
   "cell_type": "markdown",
   "id": "54b5b769",
   "metadata": {},
   "source": [
    "## Question 3\n",
    "\n",
    "In the cell below, use tab completion to find a function from the time\n",
    "module that returns the **local** time.\n",
    "\n",
    "Use `time.FUNC_NAME?` (where `FUNC_NAME` is replaced with the name\n",
    "of the function you found) to see information about that function,\n",
    "then call the function. (Hint: look for something involving the word\n",
    "`local`)."
   ]
  },
  {
   "cell_type": "code",
   "execution_count": 11,
   "id": "b1327d02",
   "metadata": {
    "tags": []
   },
   "outputs": [
    {
     "name": "stdout",
     "output_type": "stream",
     "text": [
      "result: time.struct_time(tm_year=2022, tm_mon=9, tm_mday=24, tm_hour=6, tm_min=23, tm_sec=35, tm_wday=5, tm_yday=267, tm_isdst=0)\n",
      "\n",
      "year: 2022\n",
      "tm_hour: 6\n"
     ]
    }
   ],
   "source": [
    "import time\n",
    "# Your code goes here\n",
    "\n",
    "result = time.localtime()\n",
    "print(\"result:\", result)\n",
    "print(\"\\nyear:\", result.tm_year)\n",
    "print(\"tm_hour:\", result.tm_hour)\n"
   ]
  },
  {
   "cell_type": "markdown",
   "id": "007f3603",
   "metadata": {},
   "source": [
    "Hint: if you are using an online jupyter server, the time will be based on\n",
    "the server settings.  If it doesn't match your location, don't worry about it."
   ]
  },
  {
   "cell_type": "markdown",
   "id": "8d262079",
   "metadata": {},
   "source": [
    "## Question 4\n",
    "\n",
    "Create the following variables:\n",
    "\n",
    "- `D`: A floating point number with the value 10,000\n",
    "- `r`: A floating point number with the value 0.025\n",
    "- `T`: An integer with the value 30\n",
    "\n",
    "Compute the present discounted value of a payment (`D`) made\n",
    "in `T` years, assuming an interest rate of 2.5%. Save this value to\n",
    "a new variable called `PDV` and print your output.\n",
    "\n",
    "Hint: The formula is\n",
    "\n",
    "$$\n",
    "\\text{PDV} = \\frac{D}{(1 + r)^T}\n",
    "$$"
   ]
  },
  {
   "cell_type": "code",
   "execution_count": 18,
   "id": "431c6ba1-f383-4d62-88b8-baf9d3198241",
   "metadata": {},
   "outputs": [
    {
     "name": "stdout",
     "output_type": "stream",
     "text": [
      "TDV =  4767.426851809713\n"
     ]
    }
   ],
   "source": [
    "D = 10000.0\n",
    "r = 0.025\n",
    "T = 30\n",
    "\n",
    "PDV = D/(1+r)**T\n",
    "print('TDV = ', PDV)"
   ]
  },
  {
   "cell_type": "markdown",
   "id": "821bb2a1",
   "metadata": {},
   "source": [
    "## Question 5\n",
    "\n",
    "How could you use the variables `x` and `y` to create the sentence\n",
    "`Hello World` ?\n",
    "\n",
    "Hint: Think about how to represent a space as a string."
   ]
  },
  {
   "cell_type": "code",
   "execution_count": 21,
   "id": "e29f1862",
   "metadata": {
    "tags": []
   },
   "outputs": [
    {
     "name": "stdout",
     "output_type": "stream",
     "text": [
      "Hello World\n"
     ]
    }
   ],
   "source": [
    "x = \"Hello\"\n",
    "y = \"World\"\n",
    "# Your code goes here\n",
    "\n",
    "print(x + \" \" + y)\n"
   ]
  },
  {
   "cell_type": "markdown",
   "id": "b888354e",
   "metadata": {},
   "source": [
    "## Question 6\n",
    "\n",
    "Suppose you are working with price data and come across the value\n",
    "`\"€6.50\"`.\n",
    "\n",
    "When Python tries to interpret this value, it sees the value as the string\n",
    "`\"€6.50\"` instead of the number `6.50`. (Quiz: why is this a\n",
    "problem? Think about the examples above.)\n",
    "\n",
    "In this exercise, your task is to convert the variable `price` below\n",
    "into a number.\n",
    "\n",
    "*Hint*: Once the string is in a suitable format, you can call\n",
    "`float(clean_price)` to make it a number."
   ]
  },
  {
   "cell_type": "code",
   "execution_count": 25,
   "id": "f319841e",
   "metadata": {
    "tags": []
   },
   "outputs": [
    {
     "name": "stdout",
     "output_type": "stream",
     "text": [
      "6.5\n"
     ]
    }
   ],
   "source": [
    "price_string = \"€6.50\"\n",
    "clean_price = price_string[1:]\n",
    "print(float(clean_price))\n"
   ]
  },
  {
   "cell_type": "markdown",
   "id": "fa69abd9",
   "metadata": {},
   "source": [
    "<!-- BEGIN QUESTION -->\n",
    "\n",
    "## Question 7\n",
    "\n",
    "Use Python formatting (e.g. `print(f\"text {somecode}\")` where `somecode` is a valid expression or variable name) to produce the following\n",
    "output.\n",
    "\n",
    "```{code-block} none\n",
    "The 1st quarter revenue was $110M\n",
    "The 2nd quarter revenue was $95M\n",
    "The 3rd quarter revenue was $100M\n",
    "The 4th quarter revenue was $130M\n",
    "```"
   ]
  },
  {
   "cell_type": "code",
   "execution_count": 29,
   "id": "ba2f891a",
   "metadata": {
    "tags": []
   },
   "outputs": [
    {
     "name": "stdout",
     "output_type": "stream",
     "text": [
      "The 1st quarter revenue was $110M\n",
      "The 2nd quarter revenue was $95M\n",
      "The 3rd quarter revenue was $100M\n",
      "The 4th quarter revenue was $130M\n"
     ]
    }
   ],
   "source": [
    "# Your code goes here\n",
    "\n",
    "print(f\"The 1st quarter revenue was ${110}M\")\n",
    "print(f\"The 2nd quarter revenue was ${95}M\")\n",
    "print(f\"The 3rd quarter revenue was ${100}M\")\n",
    "print(f\"The 4th quarter revenue was ${130}M\")\n",
    "      \n"
   ]
  }
 ],
 "metadata": {
  "kernelspec": {
   "display_name": "Python 3.8.10 64-bit",
   "language": "python",
   "name": "python3"
  },
  "language_info": {
   "codemirror_mode": {
    "name": "ipython",
    "version": 3
   },
   "file_extension": ".py",
   "mimetype": "text/x-python",
   "name": "python",
   "nbconvert_exporter": "python",
   "pygments_lexer": "ipython3",
   "version": "3.8.10"
  },
  "orphan": true,
  "otter": {
   "tests": {
    "q2": {
     "name": "q2",
     "points": 2,
     "suites": [
      {
       "cases": [],
       "scored": true,
       "setup": "",
       "teardown": "",
       "type": "doctest"
      }
     ]
    },
    "q3": {
     "name": "q3",
     "points": 1,
     "suites": [
      {
       "cases": [],
       "scored": true,
       "setup": "",
       "teardown": "",
       "type": "doctest"
      }
     ]
    },
    "q4": {
     "name": "q4",
     "points": 2,
     "suites": [
      {
       "cases": [],
       "scored": true,
       "setup": "",
       "teardown": "",
       "type": "doctest"
      }
     ]
    },
    "q5": {
     "name": "q5",
     "points": 1,
     "suites": [
      {
       "cases": [],
       "scored": true,
       "setup": "",
       "teardown": "",
       "type": "doctest"
      }
     ]
    },
    "q6": {
     "name": "q6",
     "points": 1,
     "suites": [
      {
       "cases": [],
       "scored": true,
       "setup": "",
       "teardown": "",
       "type": "doctest"
      }
     ]
    },
    "q8": {
     "name": "q8",
     "points": 1,
     "suites": [
      {
       "cases": [],
       "scored": true,
       "setup": "",
       "teardown": "",
       "type": "doctest"
      }
     ]
    }
   }
  },
  "vscode": {
   "interpreter": {
    "hash": "916dbcbb3f70747c44a77c7bcd40155683ae19c65e1c03b4aa3499c5328201f1"
   }
  }
 },
 "nbformat": 4,
 "nbformat_minor": 5
}
